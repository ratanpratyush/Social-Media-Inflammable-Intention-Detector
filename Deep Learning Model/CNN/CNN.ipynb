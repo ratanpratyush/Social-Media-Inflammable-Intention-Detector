{
  "nbformat": 4,
  "nbformat_minor": 0,
  "metadata": {
    "colab": {
      "name": "CNN.ipynb",
      "provenance": [],
      "collapsed_sections": [],
      "toc_visible": true
    },
    "kernelspec": {
      "name": "python3",
      "display_name": "Python 3"
    }
  },
  "cells": [
    {
      "cell_type": "markdown",
      "metadata": {
        "id": "VwK5-9FIB-lu"
      },
      "source": [
        "# Natural Language Processing"
      ]
    },
    {
      "cell_type": "markdown",
      "metadata": {
        "id": "X1kiO9kACE6s"
      },
      "source": [
        "## Importing the libraries"
      ]
    },
    {
      "cell_type": "code",
      "metadata": {
        "id": "7QG7sxmoCIvN"
      },
      "source": [
        "import numpy as np\n",
        "import tensorflow as tf\n",
        "import pandas as pd\n",
        "from keras.layers.convolutional import Conv1D\n",
        "from keras.layers.convolutional import MaxPooling1D"
      ],
      "execution_count": 1,
      "outputs": []
    },
    {
      "cell_type": "markdown",
      "metadata": {
        "id": "wTfaCIzdCLPA"
      },
      "source": [
        "## Importing the dataset"
      ]
    },
    {
      "cell_type": "code",
      "metadata": {
        "id": "UCK6vQ5QCQJe"
      },
      "source": [
        "dataset = pd.read_csv('Ethos_Dataset_Binary.csv')"
      ],
      "execution_count": 2,
      "outputs": []
    },
    {
      "cell_type": "markdown",
      "metadata": {
        "id": "Qekztq71CixT"
      },
      "source": [
        "## Cleaning the texts"
      ]
    },
    {
      "cell_type": "code",
      "metadata": {
        "id": "8u_yXh9dCmEE",
        "colab": {
          "base_uri": "https://localhost:8080/"
        },
        "outputId": "912a7100-aa77-45e6-99d9-8d5df64628dd"
      },
      "source": [
        "import re\n",
        "import nltk\n",
        "nltk.download('stopwords')\n",
        "from nltk.corpus import stopwords\n",
        "from nltk.stem.porter import PorterStemmer\n",
        "corpus = []\n",
        "for i in range(0, 998):\n",
        "  review = re.sub('[^a-zA-Z]', ' ', dataset['comment'][i])\n",
        "  review = review.lower()\n",
        "  review = review.split()\n",
        "  ps = PorterStemmer()\n",
        "  all_stopwords = stopwords.words('english')\n",
        "  all_stopwords.remove('not')\n",
        "  review = [ps.stem(word) for word in review if not word in set(all_stopwords)]\n",
        "  review = ' '.join(review)\n",
        "  corpus.append(review)"
      ],
      "execution_count": 3,
      "outputs": [
        {
          "output_type": "stream",
          "text": [
            "[nltk_data] Downloading package stopwords to /root/nltk_data...\n",
            "[nltk_data]   Package stopwords is already up-to-date!\n"
          ],
          "name": "stdout"
        }
      ]
    },
    {
      "cell_type": "markdown",
      "metadata": {
        "id": "CLqmAkANCp1-"
      },
      "source": [
        "## Creating the Bag of Words model"
      ]
    },
    {
      "cell_type": "code",
      "metadata": {
        "id": "qroF7XcSCvY3"
      },
      "source": [
        "from sklearn.feature_extraction.text import CountVectorizer\n",
        "cv = CountVectorizer(max_features = 2700)\n",
        "X = cv.fit_transform(corpus).toarray()\n",
        "y = dataset.iloc[:, -1].values\n",
        "for i in range(0,998):\n",
        "  if y[i] >= 0.5:\n",
        "    y[i] = int(1)\n",
        "  else:\n",
        "    y[i] = int(0)"
      ],
      "execution_count": 4,
      "outputs": []
    },
    {
      "cell_type": "markdown",
      "metadata": {
        "id": "DH_VjgPzC2cd"
      },
      "source": [
        "## Splitting the dataset into the Training set and Test set"
      ]
    },
    {
      "cell_type": "code",
      "metadata": {
        "id": "qQXYM5VzDDDI"
      },
      "source": [
        "from sklearn.model_selection import train_test_split\n",
        "X_train, X_test, y_train, y_test = train_test_split(X, y, test_size = 0.25, random_state = 0)"
      ],
      "execution_count": 5,
      "outputs": []
    },
    {
      "cell_type": "markdown",
      "metadata": {
        "id": "FxM45NGl4N1z"
      },
      "source": [
        "## Feature Scaling"
      ]
    },
    {
      "cell_type": "code",
      "metadata": {
        "id": "mkxCWN2n4W6U"
      },
      "source": [
        "from sklearn.preprocessing import StandardScaler\r\n",
        "sc = StandardScaler()\r\n",
        "X_train = sc.fit_transform(X_train)\r\n",
        "X_test = sc.transform(X_test)"
      ],
      "execution_count": 6,
      "outputs": []
    },
    {
      "cell_type": "markdown",
      "metadata": {
        "id": "8DHMr7vj4oV5"
      },
      "source": [
        "## Building the CNN"
      ]
    },
    {
      "cell_type": "markdown",
      "metadata": {
        "id": "htzZcw0A4xPm"
      },
      "source": [
        "### Initialising the CNN"
      ]
    },
    {
      "cell_type": "code",
      "metadata": {
        "id": "e4LQKeRK5uEP"
      },
      "source": [
        "cnn = tf.keras.models.Sequential()"
      ],
      "execution_count": 7,
      "outputs": []
    },
    {
      "cell_type": "markdown",
      "metadata": {
        "id": "Xllz5YhuCot7"
      },
      "source": [
        "### Adding the Embedding Layer"
      ]
    },
    {
      "cell_type": "code",
      "metadata": {
        "id": "RrL6zmlhCwgd"
      },
      "source": [
        "cnn.add(tf.keras.layers.Embedding(3000, 32, input_length=2700))"
      ],
      "execution_count": 8,
      "outputs": []
    },
    {
      "cell_type": "markdown",
      "metadata": {
        "id": "BQ1_4MkG49yw"
      },
      "source": [
        "### Adding the input layer and the pooling"
      ]
    },
    {
      "cell_type": "code",
      "metadata": {
        "id": "tW6fps-i5xxe"
      },
      "source": [
        "cnn.add(tf.keras.layers.Conv1D(filters=32, kernel_size=3, activation='relu'))\r\n",
        "cnn.add(tf.keras.layers.MaxPool1D())"
      ],
      "execution_count": 9,
      "outputs": []
    },
    {
      "cell_type": "markdown",
      "metadata": {
        "id": "T5VIn117GElr"
      },
      "source": [
        "### Flattening"
      ]
    },
    {
      "cell_type": "code",
      "metadata": {
        "id": "hpgJHS8fGIg5"
      },
      "source": [
        "cnn.add(tf.keras.layers.Flatten())"
      ],
      "execution_count": 10,
      "outputs": []
    },
    {
      "cell_type": "markdown",
      "metadata": {
        "id": "Fe94yYm-GWod"
      },
      "source": [
        "### Full Connection"
      ]
    },
    {
      "cell_type": "code",
      "metadata": {
        "id": "bWvgigAHGakb"
      },
      "source": [
        "cnn.add(tf.keras.layers.Dense(128, activation='relu'))"
      ],
      "execution_count": 11,
      "outputs": []
    },
    {
      "cell_type": "markdown",
      "metadata": {
        "id": "q3XOMkMa5PWZ"
      },
      "source": [
        "### Adding the output layer"
      ]
    },
    {
      "cell_type": "code",
      "metadata": {
        "id": "G8lMV3uZ56BD"
      },
      "source": [
        "cnn.add(tf.keras.layers.Dense(units=1, activation='sigmoid'))"
      ],
      "execution_count": 12,
      "outputs": []
    },
    {
      "cell_type": "markdown",
      "metadata": {
        "id": "VkIq23vEDIPt"
      },
      "source": [
        "## Training the ANN"
      ]
    },
    {
      "cell_type": "markdown",
      "metadata": {
        "id": "DO56kRZB5a-4"
      },
      "source": [
        "### Compiling the ANN"
      ]
    },
    {
      "cell_type": "code",
      "metadata": {
        "id": "OtWmwNtD59jo"
      },
      "source": [
        "cnn.compile(optimizer = 'adam', loss = 'binary_crossentropy', metrics = ['accuracy'])"
      ],
      "execution_count": 13,
      "outputs": []
    },
    {
      "cell_type": "markdown",
      "metadata": {
        "id": "kGf2PBSH5g8I"
      },
      "source": [
        "### Training the ANN on the Training set"
      ]
    },
    {
      "cell_type": "code",
      "metadata": {
        "colab": {
          "base_uri": "https://localhost:8080/"
        },
        "id": "e38KECrS6Cm3",
        "outputId": "91ddb732-8591-44d8-a9b2-44623b81366b"
      },
      "source": [
        "cnn.fit(X_train, y_train, batch_size = 32, epochs = 100)"
      ],
      "execution_count": 14,
      "outputs": [
        {
          "output_type": "stream",
          "text": [
            "Epoch 1/100\n",
            "24/24 [==============================] - 3s 129ms/step - loss: 0.6913 - accuracy: 0.5281\n",
            "Epoch 2/100\n",
            "24/24 [==============================] - 3s 125ms/step - loss: 0.6883 - accuracy: 0.5548\n",
            "Epoch 3/100\n",
            "24/24 [==============================] - 3s 125ms/step - loss: 0.6748 - accuracy: 0.5548\n",
            "Epoch 4/100\n",
            "24/24 [==============================] - 3s 125ms/step - loss: 0.6288 - accuracy: 0.6324\n",
            "Epoch 5/100\n",
            "24/24 [==============================] - 3s 126ms/step - loss: 0.4925 - accuracy: 0.7968\n",
            "Epoch 6/100\n",
            "24/24 [==============================] - 3s 126ms/step - loss: 0.2304 - accuracy: 0.9238\n",
            "Epoch 7/100\n",
            "24/24 [==============================] - 3s 125ms/step - loss: 0.1051 - accuracy: 0.9719\n",
            "Epoch 8/100\n",
            "24/24 [==============================] - 3s 127ms/step - loss: 0.0414 - accuracy: 0.9920\n",
            "Epoch 9/100\n",
            "24/24 [==============================] - 3s 126ms/step - loss: 0.0188 - accuracy: 0.9973\n",
            "Epoch 10/100\n",
            "24/24 [==============================] - 3s 126ms/step - loss: 0.0099 - accuracy: 1.0000\n",
            "Epoch 11/100\n",
            "24/24 [==============================] - 3s 129ms/step - loss: 0.0058 - accuracy: 1.0000\n",
            "Epoch 12/100\n",
            "24/24 [==============================] - 3s 125ms/step - loss: 0.0039 - accuracy: 1.0000\n",
            "Epoch 13/100\n",
            "24/24 [==============================] - 3s 125ms/step - loss: 0.0028 - accuracy: 1.0000\n",
            "Epoch 14/100\n",
            "24/24 [==============================] - 3s 126ms/step - loss: 0.0022 - accuracy: 1.0000\n",
            "Epoch 15/100\n",
            "24/24 [==============================] - 3s 126ms/step - loss: 0.0016 - accuracy: 1.0000\n",
            "Epoch 16/100\n",
            "24/24 [==============================] - 3s 127ms/step - loss: 0.0013 - accuracy: 1.0000\n",
            "Epoch 17/100\n",
            "24/24 [==============================] - 3s 127ms/step - loss: 0.0011 - accuracy: 1.0000\n",
            "Epoch 18/100\n",
            "24/24 [==============================] - 3s 127ms/step - loss: 8.7822e-04 - accuracy: 1.0000\n",
            "Epoch 19/100\n",
            "24/24 [==============================] - 3s 126ms/step - loss: 7.5169e-04 - accuracy: 1.0000\n",
            "Epoch 20/100\n",
            "24/24 [==============================] - 3s 126ms/step - loss: 6.4587e-04 - accuracy: 1.0000\n",
            "Epoch 21/100\n",
            "24/24 [==============================] - 3s 127ms/step - loss: 5.6333e-04 - accuracy: 1.0000\n",
            "Epoch 22/100\n",
            "24/24 [==============================] - 3s 126ms/step - loss: 5.0313e-04 - accuracy: 1.0000\n",
            "Epoch 23/100\n",
            "24/24 [==============================] - 3s 131ms/step - loss: 4.3840e-04 - accuracy: 1.0000\n",
            "Epoch 24/100\n",
            "24/24 [==============================] - 3s 134ms/step - loss: 3.8698e-04 - accuracy: 1.0000\n",
            "Epoch 25/100\n",
            "24/24 [==============================] - 3s 128ms/step - loss: 3.4283e-04 - accuracy: 1.0000\n",
            "Epoch 26/100\n",
            "24/24 [==============================] - 3s 126ms/step - loss: 3.0996e-04 - accuracy: 1.0000\n",
            "Epoch 27/100\n",
            "24/24 [==============================] - 3s 125ms/step - loss: 2.8114e-04 - accuracy: 1.0000\n",
            "Epoch 28/100\n",
            "24/24 [==============================] - 3s 127ms/step - loss: 2.5625e-04 - accuracy: 1.0000\n",
            "Epoch 29/100\n",
            "24/24 [==============================] - 3s 125ms/step - loss: 2.2074e-04 - accuracy: 1.0000\n",
            "Epoch 30/100\n",
            "24/24 [==============================] - 3s 127ms/step - loss: 1.9767e-04 - accuracy: 1.0000\n",
            "Epoch 31/100\n",
            "24/24 [==============================] - 3s 124ms/step - loss: 1.7469e-04 - accuracy: 1.0000\n",
            "Epoch 32/100\n",
            "24/24 [==============================] - 3s 127ms/step - loss: 1.5566e-04 - accuracy: 1.0000\n",
            "Epoch 33/100\n",
            "24/24 [==============================] - 3s 127ms/step - loss: 1.3849e-04 - accuracy: 1.0000\n",
            "Epoch 34/100\n",
            "24/24 [==============================] - 3s 127ms/step - loss: 1.2326e-04 - accuracy: 1.0000\n",
            "Epoch 35/100\n",
            "24/24 [==============================] - 3s 130ms/step - loss: 1.1169e-04 - accuracy: 1.0000\n",
            "Epoch 36/100\n",
            "24/24 [==============================] - 3s 129ms/step - loss: 1.0151e-04 - accuracy: 1.0000\n",
            "Epoch 37/100\n",
            "24/24 [==============================] - 3s 130ms/step - loss: 9.5013e-05 - accuracy: 1.0000\n",
            "Epoch 38/100\n",
            "24/24 [==============================] - 3s 130ms/step - loss: 8.3416e-05 - accuracy: 1.0000\n",
            "Epoch 39/100\n",
            "24/24 [==============================] - 3s 129ms/step - loss: 7.6858e-05 - accuracy: 1.0000\n",
            "Epoch 40/100\n",
            "24/24 [==============================] - 3s 129ms/step - loss: 6.9442e-05 - accuracy: 1.0000\n",
            "Epoch 41/100\n",
            "24/24 [==============================] - 3s 129ms/step - loss: 6.3392e-05 - accuracy: 1.0000\n",
            "Epoch 42/100\n",
            "24/24 [==============================] - 3s 126ms/step - loss: 5.8681e-05 - accuracy: 1.0000\n",
            "Epoch 43/100\n",
            "24/24 [==============================] - 3s 126ms/step - loss: 5.4501e-05 - accuracy: 1.0000\n",
            "Epoch 44/100\n",
            "24/24 [==============================] - 3s 126ms/step - loss: 5.0421e-05 - accuracy: 1.0000\n",
            "Epoch 45/100\n",
            "24/24 [==============================] - 3s 127ms/step - loss: 4.6365e-05 - accuracy: 1.0000\n",
            "Epoch 46/100\n",
            "24/24 [==============================] - 3s 125ms/step - loss: 4.3772e-05 - accuracy: 1.0000\n",
            "Epoch 47/100\n",
            "24/24 [==============================] - 3s 126ms/step - loss: 4.0750e-05 - accuracy: 1.0000\n",
            "Epoch 48/100\n",
            "24/24 [==============================] - 3s 128ms/step - loss: 3.7683e-05 - accuracy: 1.0000\n",
            "Epoch 49/100\n",
            "24/24 [==============================] - 3s 127ms/step - loss: 3.5309e-05 - accuracy: 1.0000\n",
            "Epoch 50/100\n",
            "24/24 [==============================] - 3s 125ms/step - loss: 3.3327e-05 - accuracy: 1.0000\n",
            "Epoch 51/100\n",
            "24/24 [==============================] - 3s 127ms/step - loss: 3.1581e-05 - accuracy: 1.0000\n",
            "Epoch 52/100\n",
            "24/24 [==============================] - 3s 127ms/step - loss: 2.9720e-05 - accuracy: 1.0000\n",
            "Epoch 53/100\n",
            "24/24 [==============================] - 3s 126ms/step - loss: 2.8173e-05 - accuracy: 1.0000\n",
            "Epoch 54/100\n",
            "24/24 [==============================] - 3s 126ms/step - loss: 2.6745e-05 - accuracy: 1.0000\n",
            "Epoch 55/100\n",
            "24/24 [==============================] - 3s 127ms/step - loss: 2.5311e-05 - accuracy: 1.0000\n",
            "Epoch 56/100\n",
            "24/24 [==============================] - 3s 127ms/step - loss: 2.4131e-05 - accuracy: 1.0000\n",
            "Epoch 57/100\n",
            "24/24 [==============================] - 3s 126ms/step - loss: 2.3075e-05 - accuracy: 1.0000\n",
            "Epoch 58/100\n",
            "24/24 [==============================] - 3s 128ms/step - loss: 2.1688e-05 - accuracy: 1.0000\n",
            "Epoch 59/100\n",
            "24/24 [==============================] - 3s 127ms/step - loss: 2.0875e-05 - accuracy: 1.0000\n",
            "Epoch 60/100\n",
            "24/24 [==============================] - 3s 126ms/step - loss: 1.9783e-05 - accuracy: 1.0000\n",
            "Epoch 61/100\n",
            "24/24 [==============================] - 3s 128ms/step - loss: 1.8917e-05 - accuracy: 1.0000\n",
            "Epoch 62/100\n",
            "24/24 [==============================] - 3s 127ms/step - loss: 1.8073e-05 - accuracy: 1.0000\n",
            "Epoch 63/100\n",
            "24/24 [==============================] - 3s 126ms/step - loss: 1.7345e-05 - accuracy: 1.0000\n",
            "Epoch 64/100\n",
            "24/24 [==============================] - 3s 126ms/step - loss: 1.6497e-05 - accuracy: 1.0000\n",
            "Epoch 65/100\n",
            "24/24 [==============================] - 3s 126ms/step - loss: 1.5845e-05 - accuracy: 1.0000\n",
            "Epoch 66/100\n",
            "24/24 [==============================] - 3s 127ms/step - loss: 1.5206e-05 - accuracy: 1.0000\n",
            "Epoch 67/100\n",
            "24/24 [==============================] - 3s 127ms/step - loss: 1.4636e-05 - accuracy: 1.0000\n",
            "Epoch 68/100\n",
            "24/24 [==============================] - 3s 127ms/step - loss: 1.4035e-05 - accuracy: 1.0000\n",
            "Epoch 69/100\n",
            "24/24 [==============================] - 3s 127ms/step - loss: 1.3471e-05 - accuracy: 1.0000\n",
            "Epoch 70/100\n",
            "24/24 [==============================] - 3s 126ms/step - loss: 1.2966e-05 - accuracy: 1.0000\n",
            "Epoch 71/100\n",
            "24/24 [==============================] - 3s 129ms/step - loss: 1.2491e-05 - accuracy: 1.0000\n",
            "Epoch 72/100\n",
            "24/24 [==============================] - 3s 127ms/step - loss: 1.2009e-05 - accuracy: 1.0000\n",
            "Epoch 73/100\n",
            "24/24 [==============================] - 3s 127ms/step - loss: 1.1648e-05 - accuracy: 1.0000\n",
            "Epoch 74/100\n",
            "24/24 [==============================] - 3s 126ms/step - loss: 1.1176e-05 - accuracy: 1.0000\n",
            "Epoch 75/100\n",
            "24/24 [==============================] - 3s 127ms/step - loss: 1.0795e-05 - accuracy: 1.0000\n",
            "Epoch 76/100\n",
            "24/24 [==============================] - 3s 127ms/step - loss: 1.0446e-05 - accuracy: 1.0000\n",
            "Epoch 77/100\n",
            "24/24 [==============================] - 3s 126ms/step - loss: 1.0054e-05 - accuracy: 1.0000\n",
            "Epoch 78/100\n",
            "24/24 [==============================] - 3s 127ms/step - loss: 9.7449e-06 - accuracy: 1.0000\n",
            "Epoch 79/100\n",
            "24/24 [==============================] - 3s 126ms/step - loss: 9.3676e-06 - accuracy: 1.0000\n",
            "Epoch 80/100\n",
            "24/24 [==============================] - 3s 126ms/step - loss: 9.0516e-06 - accuracy: 1.0000\n",
            "Epoch 81/100\n",
            "24/24 [==============================] - 3s 127ms/step - loss: 8.7411e-06 - accuracy: 1.0000\n",
            "Epoch 82/100\n",
            "24/24 [==============================] - 3s 126ms/step - loss: 8.4753e-06 - accuracy: 1.0000\n",
            "Epoch 83/100\n",
            "24/24 [==============================] - 3s 126ms/step - loss: 8.1826e-06 - accuracy: 1.0000\n",
            "Epoch 84/100\n",
            "24/24 [==============================] - 3s 125ms/step - loss: 8.0058e-06 - accuracy: 1.0000\n",
            "Epoch 85/100\n",
            "24/24 [==============================] - 3s 127ms/step - loss: 7.6866e-06 - accuracy: 1.0000\n",
            "Epoch 86/100\n",
            "24/24 [==============================] - 3s 127ms/step - loss: 7.4433e-06 - accuracy: 1.0000\n",
            "Epoch 87/100\n",
            "24/24 [==============================] - 3s 127ms/step - loss: 7.2257e-06 - accuracy: 1.0000\n",
            "Epoch 88/100\n",
            "24/24 [==============================] - 3s 127ms/step - loss: 6.9928e-06 - accuracy: 1.0000\n",
            "Epoch 89/100\n",
            "24/24 [==============================] - 3s 127ms/step - loss: 6.8381e-06 - accuracy: 1.0000\n",
            "Epoch 90/100\n",
            "24/24 [==============================] - 3s 127ms/step - loss: 6.5979e-06 - accuracy: 1.0000\n",
            "Epoch 91/100\n",
            "24/24 [==============================] - 3s 127ms/step - loss: 6.3799e-06 - accuracy: 1.0000\n",
            "Epoch 92/100\n",
            "24/24 [==============================] - 3s 127ms/step - loss: 6.2228e-06 - accuracy: 1.0000\n",
            "Epoch 93/100\n",
            "24/24 [==============================] - 3s 127ms/step - loss: 6.0353e-06 - accuracy: 1.0000\n",
            "Epoch 94/100\n",
            "24/24 [==============================] - 3s 126ms/step - loss: 5.9079e-06 - accuracy: 1.0000\n",
            "Epoch 95/100\n",
            "24/24 [==============================] - 3s 127ms/step - loss: 5.7048e-06 - accuracy: 1.0000\n",
            "Epoch 96/100\n",
            "24/24 [==============================] - 3s 127ms/step - loss: 5.5771e-06 - accuracy: 1.0000\n",
            "Epoch 97/100\n",
            "24/24 [==============================] - 3s 127ms/step - loss: 5.4112e-06 - accuracy: 1.0000\n",
            "Epoch 98/100\n",
            "24/24 [==============================] - 3s 127ms/step - loss: 5.2488e-06 - accuracy: 1.0000\n",
            "Epoch 99/100\n",
            "24/24 [==============================] - 3s 126ms/step - loss: 5.1215e-06 - accuracy: 1.0000\n",
            "Epoch 100/100\n",
            "24/24 [==============================] - 3s 127ms/step - loss: 4.9813e-06 - accuracy: 1.0000\n"
          ],
          "name": "stdout"
        },
        {
          "output_type": "execute_result",
          "data": {
            "text/plain": [
              "<tensorflow.python.keras.callbacks.History at 0x7f8dfc447c88>"
            ]
          },
          "metadata": {
            "tags": []
          },
          "execution_count": 14
        }
      ]
    },
    {
      "cell_type": "markdown",
      "metadata": {
        "id": "xoMltea5Dir1"
      },
      "source": [
        "## Making the Confusion Matrix"
      ]
    },
    {
      "cell_type": "code",
      "metadata": {
        "id": "Xj9IU6MxDnvo",
        "colab": {
          "base_uri": "https://localhost:8080/"
        },
        "outputId": "00fdba77-897c-4102-9cce-c142478bf98d"
      },
      "source": [
        "from sklearn.metrics import confusion_matrix, accuracy_score\n",
        "y_pred = cnn.predict(X_test)\n",
        "cm = confusion_matrix(y_test, y_pred.round())\n",
        "print(cm)\n",
        "accuracy_score(y_test, y_pred.round())"
      ],
      "execution_count": 15,
      "outputs": [
        {
          "output_type": "stream",
          "text": [
            "[[97 53]\n",
            " [39 61]]\n"
          ],
          "name": "stdout"
        },
        {
          "output_type": "execute_result",
          "data": {
            "text/plain": [
              "0.632"
            ]
          },
          "metadata": {
            "tags": []
          },
          "execution_count": 15
        }
      ]
    },
    {
      "cell_type": "code",
      "metadata": {
        "id": "jBhqVQF1brpL"
      },
      "source": [
        "tp = cm[0][0]\n",
        "tn = cm[1][1]\n",
        "fp = cm[0][1]\n",
        "fn = cm[1][0]\n",
        "accuracy = (tp + tn)/(tp + tn + fp + fn)\n",
        "precision = (tp)/(tp + fp)\n",
        "recall = tp/(tp + fn)\n",
        "f1_score = 2*precision*recall/(precision + recall)"
      ],
      "execution_count": 16,
      "outputs": []
    },
    {
      "cell_type": "code",
      "metadata": {
        "colab": {
          "base_uri": "https://localhost:8080/"
        },
        "id": "eIfeCLCIfzta",
        "outputId": "cf4ee440-8177-4021-c116-d2e743a4e818"
      },
      "source": [
        "print(\"Accuracy: \",accuracy)\r\n",
        "print(\"Precision: \",precision)\r\n",
        "print(\"Recall: \",recall)\r\n",
        "print(\"F1 Score: \",f1_score)"
      ],
      "execution_count": 17,
      "outputs": [
        {
          "output_type": "stream",
          "text": [
            "Accuracy:  0.632\n",
            "Precision:  0.6466666666666666\n",
            "Recall:  0.7132352941176471\n",
            "F1 Score:  0.6783216783216783\n"
          ],
          "name": "stdout"
        }
      ]
    }
  ]
}
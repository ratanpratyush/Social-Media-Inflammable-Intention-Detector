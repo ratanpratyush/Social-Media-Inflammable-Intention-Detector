{
  "nbformat": 4,
  "nbformat_minor": 0,
  "metadata": {
    "colab": {
      "name": "ANN.ipynb",
      "provenance": [],
      "collapsed_sections": [],
      "toc_visible": true
    },
    "kernelspec": {
      "name": "python3",
      "display_name": "Python 3"
    }
  },
  "cells": [
    {
      "cell_type": "markdown",
      "metadata": {
        "id": "VwK5-9FIB-lu"
      },
      "source": [
        "# Natural Language Processing"
      ]
    },
    {
      "cell_type": "markdown",
      "metadata": {
        "id": "X1kiO9kACE6s"
      },
      "source": [
        "## Importing the libraries"
      ]
    },
    {
      "cell_type": "code",
      "metadata": {
        "id": "7QG7sxmoCIvN"
      },
      "source": [
        "import numpy as np\n",
        "import tensorflow as tf\n",
        "import pandas as pd"
      ],
      "execution_count": 1,
      "outputs": []
    },
    {
      "cell_type": "markdown",
      "metadata": {
        "id": "wTfaCIzdCLPA"
      },
      "source": [
        "## Importing the dataset"
      ]
    },
    {
      "cell_type": "code",
      "metadata": {
        "id": "UCK6vQ5QCQJe"
      },
      "source": [
        "dataset = pd.read_csv('Ethos_Dataset_Binary.csv')"
      ],
      "execution_count": 2,
      "outputs": []
    },
    {
      "cell_type": "markdown",
      "metadata": {
        "id": "Qekztq71CixT"
      },
      "source": [
        "## Cleaning the texts"
      ]
    },
    {
      "cell_type": "code",
      "metadata": {
        "id": "8u_yXh9dCmEE",
        "colab": {
          "base_uri": "https://localhost:8080/"
        },
        "outputId": "26b8e6ee-86d0-4064-e835-ab62a2a97f39"
      },
      "source": [
        "import re\n",
        "import nltk\n",
        "nltk.download('stopwords')\n",
        "from nltk.corpus import stopwords\n",
        "from nltk.stem.porter import PorterStemmer\n",
        "corpus = []\n",
        "for i in range(0, 998):\n",
        "  review = re.sub('[^a-zA-Z]', ' ', dataset['comment'][i])\n",
        "  review = review.lower()\n",
        "  review = review.split()\n",
        "  ps = PorterStemmer()\n",
        "  all_stopwords = stopwords.words('english')\n",
        "  all_stopwords.remove('not')\n",
        "  review = [ps.stem(word) for word in review if not word in set(all_stopwords)]\n",
        "  review = ' '.join(review)\n",
        "  corpus.append(review)"
      ],
      "execution_count": 3,
      "outputs": [
        {
          "output_type": "stream",
          "text": [
            "[nltk_data] Downloading package stopwords to /root/nltk_data...\n",
            "[nltk_data]   Package stopwords is already up-to-date!\n"
          ],
          "name": "stdout"
        }
      ]
    },
    {
      "cell_type": "markdown",
      "metadata": {
        "id": "CLqmAkANCp1-"
      },
      "source": [
        "## Creating the Bag of Words model"
      ]
    },
    {
      "cell_type": "code",
      "metadata": {
        "id": "qroF7XcSCvY3"
      },
      "source": [
        "from sklearn.feature_extraction.text import CountVectorizer\n",
        "cv = CountVectorizer(max_features = 2700)\n",
        "X = cv.fit_transform(corpus).toarray()\n",
        "y = dataset.iloc[:, -1].values\n",
        "for i in range(0,998):\n",
        "  if y[i] >= 0.5:\n",
        "    y[i] = int(1)\n",
        "  else:\n",
        "    y[i] = int(0)"
      ],
      "execution_count": 4,
      "outputs": []
    },
    {
      "cell_type": "markdown",
      "metadata": {
        "id": "DH_VjgPzC2cd"
      },
      "source": [
        "## Splitting the dataset into the Training set and Test set"
      ]
    },
    {
      "cell_type": "code",
      "metadata": {
        "id": "qQXYM5VzDDDI"
      },
      "source": [
        "from sklearn.model_selection import train_test_split\n",
        "X_train, X_test, y_train, y_test = train_test_split(X, y, test_size = 0.25, random_state = 0)"
      ],
      "execution_count": 5,
      "outputs": []
    },
    {
      "cell_type": "markdown",
      "metadata": {
        "id": "FxM45NGl4N1z"
      },
      "source": [
        "## Feature Scaling"
      ]
    },
    {
      "cell_type": "code",
      "metadata": {
        "id": "mkxCWN2n4W6U"
      },
      "source": [
        "from sklearn.preprocessing import StandardScaler\r\n",
        "sc = StandardScaler()\r\n",
        "X_train = sc.fit_transform(X_train)\r\n",
        "X_test = sc.transform(X_test)"
      ],
      "execution_count": 6,
      "outputs": []
    },
    {
      "cell_type": "markdown",
      "metadata": {
        "id": "8DHMr7vj4oV5"
      },
      "source": [
        "## Building the ANN"
      ]
    },
    {
      "cell_type": "markdown",
      "metadata": {
        "id": "htzZcw0A4xPm"
      },
      "source": [
        "### Initialising the ANN"
      ]
    },
    {
      "cell_type": "code",
      "metadata": {
        "id": "e4LQKeRK5uEP"
      },
      "source": [
        "ann = tf.keras.models.Sequential()"
      ],
      "execution_count": 7,
      "outputs": []
    },
    {
      "cell_type": "markdown",
      "metadata": {
        "id": "BQ1_4MkG49yw"
      },
      "source": [
        "### Adding the input layer and the first hidden layer"
      ]
    },
    {
      "cell_type": "code",
      "metadata": {
        "id": "tW6fps-i5xxe"
      },
      "source": [
        "ann.add(tf.keras.layers.Dense(units=10, activation='relu'))"
      ],
      "execution_count": 8,
      "outputs": []
    },
    {
      "cell_type": "markdown",
      "metadata": {
        "id": "xEky10ck5Iel"
      },
      "source": [
        "### Adding the second hidden layer"
      ]
    },
    {
      "cell_type": "code",
      "metadata": {
        "id": "ZIJDVp-Z52Nn"
      },
      "source": [
        "ann.add(tf.keras.layers.Dense(units=6, activation='relu'))"
      ],
      "execution_count": 9,
      "outputs": []
    },
    {
      "cell_type": "markdown",
      "metadata": {
        "id": "q3XOMkMa5PWZ"
      },
      "source": [
        "### Adding the output layer"
      ]
    },
    {
      "cell_type": "code",
      "metadata": {
        "id": "G8lMV3uZ56BD"
      },
      "source": [
        "ann.add(tf.keras.layers.Dense(units=1, activation='sigmoid'))"
      ],
      "execution_count": 10,
      "outputs": []
    },
    {
      "cell_type": "markdown",
      "metadata": {
        "id": "VkIq23vEDIPt"
      },
      "source": [
        "## Training the ANN"
      ]
    },
    {
      "cell_type": "markdown",
      "metadata": {
        "id": "DO56kRZB5a-4"
      },
      "source": [
        "### Compiling the ANN"
      ]
    },
    {
      "cell_type": "code",
      "metadata": {
        "id": "OtWmwNtD59jo"
      },
      "source": [
        "ann.compile(optimizer = 'adam', loss = 'binary_crossentropy', metrics = ['accuracy'])"
      ],
      "execution_count": 11,
      "outputs": []
    },
    {
      "cell_type": "markdown",
      "metadata": {
        "id": "kGf2PBSH5g8I"
      },
      "source": [
        "### Training the ANN on the Training set"
      ]
    },
    {
      "cell_type": "code",
      "metadata": {
        "colab": {
          "base_uri": "https://localhost:8080/"
        },
        "id": "e38KECrS6Cm3",
        "outputId": "b41206d1-53b9-42e5-c617-a0aec2b25479"
      },
      "source": [
        "ann.fit(X_train, y_train, batch_size = 32, epochs = 100)"
      ],
      "execution_count": 12,
      "outputs": [
        {
          "output_type": "stream",
          "text": [
            "Epoch 1/100\n",
            "24/24 [==============================] - 0s 2ms/step - loss: 0.7339 - accuracy: 0.5254\n",
            "Epoch 2/100\n",
            "24/24 [==============================] - 0s 2ms/step - loss: 0.5585 - accuracy: 0.7447\n",
            "Epoch 3/100\n",
            "24/24 [==============================] - 0s 2ms/step - loss: 0.4596 - accuracy: 0.8382\n",
            "Epoch 4/100\n",
            "24/24 [==============================] - 0s 2ms/step - loss: 0.3887 - accuracy: 0.8810\n",
            "Epoch 5/100\n",
            "24/24 [==============================] - 0s 2ms/step - loss: 0.3256 - accuracy: 0.9265\n",
            "Epoch 6/100\n",
            "24/24 [==============================] - 0s 2ms/step - loss: 0.2702 - accuracy: 0.9505\n",
            "Epoch 7/100\n",
            "24/24 [==============================] - 0s 2ms/step - loss: 0.2215 - accuracy: 0.9639\n",
            "Epoch 8/100\n",
            "24/24 [==============================] - 0s 2ms/step - loss: 0.1808 - accuracy: 0.9706\n",
            "Epoch 9/100\n",
            "24/24 [==============================] - 0s 2ms/step - loss: 0.1462 - accuracy: 0.9746\n",
            "Epoch 10/100\n",
            "24/24 [==============================] - 0s 2ms/step - loss: 0.1192 - accuracy: 0.9840\n",
            "Epoch 11/100\n",
            "24/24 [==============================] - 0s 2ms/step - loss: 0.0984 - accuracy: 0.9813\n",
            "Epoch 12/100\n",
            "24/24 [==============================] - 0s 2ms/step - loss: 0.0807 - accuracy: 0.9880\n",
            "Epoch 13/100\n",
            "24/24 [==============================] - 0s 2ms/step - loss: 0.0671 - accuracy: 0.9880\n",
            "Epoch 14/100\n",
            "24/24 [==============================] - 0s 2ms/step - loss: 0.0569 - accuracy: 0.9906\n",
            "Epoch 15/100\n",
            "24/24 [==============================] - 0s 2ms/step - loss: 0.0478 - accuracy: 0.9920\n",
            "Epoch 16/100\n",
            "24/24 [==============================] - 0s 2ms/step - loss: 0.0410 - accuracy: 0.9947\n",
            "Epoch 17/100\n",
            "24/24 [==============================] - 0s 2ms/step - loss: 0.0354 - accuracy: 0.9960\n",
            "Epoch 18/100\n",
            "24/24 [==============================] - 0s 2ms/step - loss: 0.0317 - accuracy: 0.9960\n",
            "Epoch 19/100\n",
            "24/24 [==============================] - 0s 2ms/step - loss: 0.0287 - accuracy: 0.9960\n",
            "Epoch 20/100\n",
            "24/24 [==============================] - 0s 2ms/step - loss: 0.0265 - accuracy: 0.9947\n",
            "Epoch 21/100\n",
            "24/24 [==============================] - 0s 2ms/step - loss: 0.0231 - accuracy: 0.9973\n",
            "Epoch 22/100\n",
            "24/24 [==============================] - 0s 2ms/step - loss: 0.0209 - accuracy: 0.9973\n",
            "Epoch 23/100\n",
            "24/24 [==============================] - 0s 2ms/step - loss: 0.0194 - accuracy: 0.9973\n",
            "Epoch 24/100\n",
            "24/24 [==============================] - 0s 2ms/step - loss: 0.0181 - accuracy: 0.9973\n",
            "Epoch 25/100\n",
            "24/24 [==============================] - 0s 2ms/step - loss: 0.0169 - accuracy: 0.9973\n",
            "Epoch 26/100\n",
            "24/24 [==============================] - 0s 2ms/step - loss: 0.0158 - accuracy: 0.9973\n",
            "Epoch 27/100\n",
            "24/24 [==============================] - 0s 2ms/step - loss: 0.0154 - accuracy: 0.9960\n",
            "Epoch 28/100\n",
            "24/24 [==============================] - 0s 2ms/step - loss: 0.0144 - accuracy: 0.9960\n",
            "Epoch 29/100\n",
            "24/24 [==============================] - 0s 2ms/step - loss: 0.0134 - accuracy: 0.9973\n",
            "Epoch 30/100\n",
            "24/24 [==============================] - 0s 2ms/step - loss: 0.0122 - accuracy: 0.9973\n",
            "Epoch 31/100\n",
            "24/24 [==============================] - 0s 2ms/step - loss: 0.0116 - accuracy: 0.9987\n",
            "Epoch 32/100\n",
            "24/24 [==============================] - 0s 2ms/step - loss: 0.0111 - accuracy: 0.9987\n",
            "Epoch 33/100\n",
            "24/24 [==============================] - 0s 2ms/step - loss: 0.0107 - accuracy: 0.9987\n",
            "Epoch 34/100\n",
            "24/24 [==============================] - 0s 2ms/step - loss: 0.0103 - accuracy: 0.9987\n",
            "Epoch 35/100\n",
            "24/24 [==============================] - 0s 2ms/step - loss: 0.0099 - accuracy: 0.9987\n",
            "Epoch 36/100\n",
            "24/24 [==============================] - 0s 2ms/step - loss: 0.0096 - accuracy: 0.9987\n",
            "Epoch 37/100\n",
            "24/24 [==============================] - 0s 2ms/step - loss: 0.0093 - accuracy: 0.9987\n",
            "Epoch 38/100\n",
            "24/24 [==============================] - 0s 2ms/step - loss: 0.0090 - accuracy: 0.9987\n",
            "Epoch 39/100\n",
            "24/24 [==============================] - 0s 2ms/step - loss: 0.0087 - accuracy: 0.9987\n",
            "Epoch 40/100\n",
            "24/24 [==============================] - 0s 2ms/step - loss: 0.0081 - accuracy: 0.9987\n",
            "Epoch 41/100\n",
            "24/24 [==============================] - 0s 2ms/step - loss: 0.0077 - accuracy: 0.9987\n",
            "Epoch 42/100\n",
            "24/24 [==============================] - 0s 2ms/step - loss: 0.0074 - accuracy: 0.9987\n",
            "Epoch 43/100\n",
            "24/24 [==============================] - 0s 2ms/step - loss: 0.0072 - accuracy: 0.9987\n",
            "Epoch 44/100\n",
            "24/24 [==============================] - 0s 2ms/step - loss: 0.0070 - accuracy: 0.9987\n",
            "Epoch 45/100\n",
            "24/24 [==============================] - 0s 2ms/step - loss: 0.0069 - accuracy: 0.9987\n",
            "Epoch 46/100\n",
            "24/24 [==============================] - 0s 2ms/step - loss: 0.0066 - accuracy: 0.9987\n",
            "Epoch 47/100\n",
            "24/24 [==============================] - 0s 2ms/step - loss: 0.0065 - accuracy: 0.9987\n",
            "Epoch 48/100\n",
            "24/24 [==============================] - 0s 2ms/step - loss: 0.0063 - accuracy: 0.9987\n",
            "Epoch 49/100\n",
            "24/24 [==============================] - 0s 2ms/step - loss: 0.0062 - accuracy: 0.9987\n",
            "Epoch 50/100\n",
            "24/24 [==============================] - 0s 2ms/step - loss: 0.0061 - accuracy: 0.9987\n",
            "Epoch 51/100\n",
            "24/24 [==============================] - 0s 2ms/step - loss: 0.0060 - accuracy: 0.9987\n",
            "Epoch 52/100\n",
            "24/24 [==============================] - 0s 2ms/step - loss: 0.0059 - accuracy: 0.9987\n",
            "Epoch 53/100\n",
            "24/24 [==============================] - 0s 2ms/step - loss: 0.0058 - accuracy: 0.9987\n",
            "Epoch 54/100\n",
            "24/24 [==============================] - 0s 2ms/step - loss: 0.0057 - accuracy: 0.9987\n",
            "Epoch 55/100\n",
            "24/24 [==============================] - 0s 2ms/step - loss: 0.0057 - accuracy: 0.9987\n",
            "Epoch 56/100\n",
            "24/24 [==============================] - 0s 2ms/step - loss: 0.0056 - accuracy: 0.9987\n",
            "Epoch 57/100\n",
            "24/24 [==============================] - 0s 2ms/step - loss: 0.0055 - accuracy: 0.9987\n",
            "Epoch 58/100\n",
            "24/24 [==============================] - 0s 2ms/step - loss: 0.0054 - accuracy: 0.9987\n",
            "Epoch 59/100\n",
            "24/24 [==============================] - 0s 2ms/step - loss: 0.0054 - accuracy: 0.9987\n",
            "Epoch 60/100\n",
            "24/24 [==============================] - 0s 2ms/step - loss: 0.0053 - accuracy: 0.9987\n",
            "Epoch 61/100\n",
            "24/24 [==============================] - 0s 2ms/step - loss: 0.0053 - accuracy: 0.9987\n",
            "Epoch 62/100\n",
            "24/24 [==============================] - 0s 2ms/step - loss: 0.0052 - accuracy: 0.9987\n",
            "Epoch 63/100\n",
            "24/24 [==============================] - 0s 2ms/step - loss: 0.0053 - accuracy: 0.9987\n",
            "Epoch 64/100\n",
            "24/24 [==============================] - 0s 2ms/step - loss: 0.0051 - accuracy: 0.9987\n",
            "Epoch 65/100\n",
            "24/24 [==============================] - 0s 2ms/step - loss: 0.0051 - accuracy: 0.9987\n",
            "Epoch 66/100\n",
            "24/24 [==============================] - 0s 2ms/step - loss: 0.0050 - accuracy: 0.9987\n",
            "Epoch 67/100\n",
            "24/24 [==============================] - 0s 2ms/step - loss: 0.0050 - accuracy: 0.9987\n",
            "Epoch 68/100\n",
            "24/24 [==============================] - 0s 2ms/step - loss: 0.0050 - accuracy: 0.9987\n",
            "Epoch 69/100\n",
            "24/24 [==============================] - 0s 2ms/step - loss: 0.0049 - accuracy: 0.9987\n",
            "Epoch 70/100\n",
            "24/24 [==============================] - 0s 2ms/step - loss: 0.0049 - accuracy: 0.9987\n",
            "Epoch 71/100\n",
            "24/24 [==============================] - 0s 2ms/step - loss: 0.0048 - accuracy: 0.9987\n",
            "Epoch 72/100\n",
            "24/24 [==============================] - 0s 2ms/step - loss: 0.0048 - accuracy: 0.9987\n",
            "Epoch 73/100\n",
            "24/24 [==============================] - 0s 2ms/step - loss: 0.0048 - accuracy: 0.9987\n",
            "Epoch 74/100\n",
            "24/24 [==============================] - 0s 2ms/step - loss: 0.0047 - accuracy: 0.9987\n",
            "Epoch 75/100\n",
            "24/24 [==============================] - 0s 2ms/step - loss: 0.0047 - accuracy: 0.9987\n",
            "Epoch 76/100\n",
            "24/24 [==============================] - 0s 2ms/step - loss: 0.0047 - accuracy: 0.9987\n",
            "Epoch 77/100\n",
            "24/24 [==============================] - 0s 2ms/step - loss: 0.0054 - accuracy: 0.9973\n",
            "Epoch 78/100\n",
            "24/24 [==============================] - 0s 2ms/step - loss: 0.0046 - accuracy: 0.9987\n",
            "Epoch 79/100\n",
            "24/24 [==============================] - 0s 2ms/step - loss: 0.0046 - accuracy: 0.9987\n",
            "Epoch 80/100\n",
            "24/24 [==============================] - 0s 2ms/step - loss: 0.0046 - accuracy: 0.9987\n",
            "Epoch 81/100\n",
            "24/24 [==============================] - 0s 2ms/step - loss: 0.0045 - accuracy: 0.9987\n",
            "Epoch 82/100\n",
            "24/24 [==============================] - 0s 2ms/step - loss: 0.0045 - accuracy: 0.9987\n",
            "Epoch 83/100\n",
            "24/24 [==============================] - 0s 3ms/step - loss: 0.0045 - accuracy: 0.9987\n",
            "Epoch 84/100\n",
            "24/24 [==============================] - 0s 2ms/step - loss: 0.0045 - accuracy: 0.9987\n",
            "Epoch 85/100\n",
            "24/24 [==============================] - 0s 3ms/step - loss: 0.0044 - accuracy: 0.9987\n",
            "Epoch 86/100\n",
            "24/24 [==============================] - 0s 4ms/step - loss: 0.0044 - accuracy: 0.9987\n",
            "Epoch 87/100\n",
            "24/24 [==============================] - 0s 3ms/step - loss: 0.0044 - accuracy: 0.9987\n",
            "Epoch 88/100\n",
            "24/24 [==============================] - 0s 3ms/step - loss: 0.0044 - accuracy: 0.9987\n",
            "Epoch 89/100\n",
            "24/24 [==============================] - 0s 3ms/step - loss: 0.0044 - accuracy: 0.9987\n",
            "Epoch 90/100\n",
            "24/24 [==============================] - 0s 3ms/step - loss: 0.0043 - accuracy: 0.9987\n",
            "Epoch 91/100\n",
            "24/24 [==============================] - 0s 2ms/step - loss: 0.0043 - accuracy: 0.9987\n",
            "Epoch 92/100\n",
            "24/24 [==============================] - 0s 2ms/step - loss: 0.0043 - accuracy: 0.9987\n",
            "Epoch 93/100\n",
            "24/24 [==============================] - 0s 2ms/step - loss: 0.0043 - accuracy: 0.9987\n",
            "Epoch 94/100\n",
            "24/24 [==============================] - 0s 2ms/step - loss: 0.0043 - accuracy: 0.9987\n",
            "Epoch 95/100\n",
            "24/24 [==============================] - 0s 2ms/step - loss: 0.0042 - accuracy: 0.9987\n",
            "Epoch 96/100\n",
            "24/24 [==============================] - 0s 2ms/step - loss: 0.0043 - accuracy: 0.9987\n",
            "Epoch 97/100\n",
            "24/24 [==============================] - 0s 2ms/step - loss: 0.0042 - accuracy: 0.9987\n",
            "Epoch 98/100\n",
            "24/24 [==============================] - 0s 2ms/step - loss: 0.0042 - accuracy: 0.9987\n",
            "Epoch 99/100\n",
            "24/24 [==============================] - 0s 3ms/step - loss: 0.0042 - accuracy: 0.9987\n",
            "Epoch 100/100\n",
            "24/24 [==============================] - 0s 2ms/step - loss: 0.0042 - accuracy: 0.9987\n"
          ],
          "name": "stdout"
        },
        {
          "output_type": "execute_result",
          "data": {
            "text/plain": [
              "<tensorflow.python.keras.callbacks.History at 0x7f48292dc208>"
            ]
          },
          "metadata": {
            "tags": []
          },
          "execution_count": 12
        }
      ]
    },
    {
      "cell_type": "code",
      "metadata": {
        "id": "DS9oiDXXDRdI",
        "colab": {
          "base_uri": "https://localhost:8080/"
        },
        "outputId": "65f42874-6a16-44ad-f618-9ff381605da1"
      },
      "source": [
        "from sklearn.naive_bayes import GaussianNB\n",
        "classifier = GaussianNB()\n",
        "classifier.fit(X_train, y_train)"
      ],
      "execution_count": 13,
      "outputs": [
        {
          "output_type": "execute_result",
          "data": {
            "text/plain": [
              "GaussianNB(priors=None, var_smoothing=1e-09)"
            ]
          },
          "metadata": {
            "tags": []
          },
          "execution_count": 13
        }
      ]
    },
    {
      "cell_type": "markdown",
      "metadata": {
        "id": "xoMltea5Dir1"
      },
      "source": [
        "## Making the Confusion Matrix"
      ]
    },
    {
      "cell_type": "code",
      "metadata": {
        "id": "Xj9IU6MxDnvo",
        "colab": {
          "base_uri": "https://localhost:8080/"
        },
        "outputId": "79dc9262-bb70-49e7-87d0-2371ef197ec3"
      },
      "source": [
        "from sklearn.metrics import confusion_matrix, accuracy_score\n",
        "y_pred = classifier.predict(X_test)\n",
        "cm = confusion_matrix(y_test, y_pred)\n",
        "print(cm)\n",
        "accuracy_score(y_test, y_pred)"
      ],
      "execution_count": 14,
      "outputs": [
        {
          "output_type": "stream",
          "text": [
            "[[58 92]\n",
            " [38 62]]\n"
          ],
          "name": "stdout"
        },
        {
          "output_type": "execute_result",
          "data": {
            "text/plain": [
              "0.48"
            ]
          },
          "metadata": {
            "tags": []
          },
          "execution_count": 14
        }
      ]
    },
    {
      "cell_type": "code",
      "metadata": {
        "id": "jBhqVQF1brpL"
      },
      "source": [
        "tp = cm[0][0]\n",
        "tn = cm[1][1]\n",
        "fp = cm[0][1]\n",
        "fn = cm[1][0]\n",
        "accuracy = (tp + tn)/(tp + tn + fp + fn)\n",
        "precision = (tp)/(tp + fp)\n",
        "recall = tp/(tp + fn)\n",
        "f1_score = 2*precision*recall/(precision + recall)"
      ],
      "execution_count": 15,
      "outputs": []
    },
    {
      "cell_type": "code",
      "metadata": {
        "colab": {
          "base_uri": "https://localhost:8080/"
        },
        "id": "eIfeCLCIfzta",
        "outputId": "df773629-f3dc-4dc9-ca9f-9149e760ec27"
      },
      "source": [
        "print(\"Accuracy: \",accuracy)\r\n",
        "print(\"Precision: \",precision)\r\n",
        "print(\"Recall: \",recall)\r\n",
        "print(\"F1 Score: \",f1_score)"
      ],
      "execution_count": 16,
      "outputs": [
        {
          "output_type": "stream",
          "text": [
            "Accuracy:  0.48\n",
            "Precision:  0.38666666666666666\n",
            "Recall:  0.6041666666666666\n",
            "F1 Score:  0.4715447154471545\n"
          ],
          "name": "stdout"
        }
      ]
    }
  ]
}